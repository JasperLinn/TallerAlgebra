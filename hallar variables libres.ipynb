{
  "nbformat": 4,
  "nbformat_minor": 0,
  "metadata": {
    "colab": {
      "provenance": [],
      "authorship_tag": "ABX9TyN4u1UrXodnBhQ6w1FY72ZT",
      "include_colab_link": true
    },
    "kernelspec": {
      "name": "python3",
      "display_name": "Python 3"
    },
    "language_info": {
      "name": "python"
    }
  },
  "cells": [
    {
      "cell_type": "markdown",
      "metadata": {
        "id": "view-in-github",
        "colab_type": "text"
      },
      "source": [
        "<a href=\"https://colab.research.google.com/github/JasperLinn/TallerAlgebra/blob/master/hallar%20variables%20libres.ipynb\" target=\"_parent\"><img src=\"https://colab.research.google.com/assets/colab-badge.svg\" alt=\"Open In Colab\"/></a>"
      ]
    },
    {
      "cell_type": "code",
      "execution_count": 21,
      "metadata": {
        "colab": {
          "base_uri": "https://localhost:8080/"
        },
        "id": "L5qC2j1La5KL",
        "outputId": "9f1da982-c96a-4915-a2d6-4dd3b0d90610"
      },
      "outputs": [
        {
          "output_type": "stream",
          "name": "stdout",
          "text": [
            "[[   56   112   336]\n",
            " [  392   784  2688]\n",
            " [ -448  -896 -3136]]\n",
            "[[1 2 0]\n",
            " [0 0 1]\n",
            " [0 0 0]]\n",
            "[1]\n"
          ]
        }
      ],
      "source": [
        "import numpy as np\n",
        "import sympy as sp\n",
        "from sympy import *\n",
        "\"defino los vectores como columnas de una matriz\"\n",
        "m1=np.array([[[56, 112, 336],[392, 784, 2688],[-448, -896, -3136]]]).reshape(3,3)\n",
        "print(m1)\n",
        "m1_sympy= Matrix(m1)\n",
        "rref, pivots = m1_sympy.rref()\n",
        "print(np.array(rref))\n",
        "num_pivots = len(pivots)\n",
        "free_vars = []\n",
        "for i in range(m1.shape[1]):\n",
        "   if i not in pivots:\n",
        "    free_vars.append(i)\n",
        "    print(free_vars)"
      ]
    }
  ]
}