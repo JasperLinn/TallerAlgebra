{
  "nbformat": 4,
  "nbformat_minor": 0,
  "metadata": {
    "colab": {
      "provenance": [],
      "authorship_tag": "ABX9TyOPI7cNfGdXS1vq+20RhgB3"
    },
    "kernelspec": {
      "name": "python3",
      "display_name": "Python 3"
    },
    "language_info": {
      "name": "python"
    }
  },
  "cells": [
    {
      "cell_type": "code",
      "execution_count": null,
      "metadata": {
        "id": "kcxKUatp1eCj"
      },
      "outputs": [],
      "source": [
        "from sympy import *\n",
        "import numpy as np\n",
        "import matplotlib.pyplot as plt\n",
        "from mpl_toolkits.mplot3d import Axes3D\n",
        "\n",
        "\"defino los vectores como columnas de una matriz\"\n",
        "m1=np.array([[[56, 112, 336],[392, 784, 2688],[-448, -896, -3136]]]).reshape(3,3)\n",
        "print(m1)\n",
        "m1_sympy= Matrix(m1)\n",
        "rref, pivots = m1_sympy.rref()\n",
        "print(np.array(rref))\n",
        "num_pivots = len(pivots)\n",
        "free_vars = []\n",
        "for i in range(m1.shape[1]):\n",
        "   if i not in pivots:\n",
        "    free_vars.append(i)\n",
        "    print(free_vars)\n",
        "\n",
        "def vectoreslinealmenteindependientes(v1, v2):\n",
        "    # Convierte los vectores en NumPy arrays\n",
        "    v1 = np.array(v1)\n",
        "    v2 = np.array(v2)\n",
        "\n",
        "    # Crea una matriz con los vectores como columnas\n",
        "    matrix = np.column_stack((v1, v2))\n",
        "\n",
        "    # Calcula el rango de la matriz\n",
        "    rank = np.linalg.matrix_rank(matrix)\n",
        "\n",
        "    # Revisa si el rango de la matriz es igual al número de vectores (Para este punto son 3 vectores)\n",
        "    if rank == 2:\n",
        "        return 'Los vectores son Linealmente Independientes'\n",
        "    else:\n",
        "        return 'los vectores son Linealmente Dependientes'\n",
        "\n",
        "# Vectores del problema (N=1)\n",
        "vector1 = [1, 2, 0]\n",
        "vector2 = [0, 0, 1]\n",
        "\n",
        "result = vectoreslinealmenteindependientes(vector1, vector2)\n",
        "\n",
        "\n",
        "#config gráfico 3d\n",
        "fig= plt.figure()\n",
        "ax= fig.add_subplot(111, projection='3d')\n",
        "#graficar vectores\n",
        "ax.quiver(0,0,0, vector1[0], vector1[1], vector1[2], color='r', label='vector 1')\n",
        "ax.quiver(0,0,0, vector2[0], vector2[1], vector2[2], color='b', label='vector 2')\n",
        "\n",
        "#etiquetar los ejes\n",
        "ax.set_xlabel('eje x')\n",
        "ax.set_ylabel('eje y')\n",
        "ax.set_zlabel('eje z')\n",
        "\n",
        "#configurar los limites de los ejes\n",
        "ax.set_xlim([0, np.max([vector1[0], vector2[0]])])\n",
        "ax.set_ylim([10000, np.max([vector1[1], vector2[1]])])\n",
        "ax.set_zlim([0, np.max([vector1[2], vector2[2]])])\n",
        "\n",
        "#mostrar leyenda y grafica\n",
        "ax.legend()\n",
        "plt.show()"
      ]
    }
  ]
}