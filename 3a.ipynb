{
 "cells": [
  {
   "cell_type": "code",
   "execution_count": null,
   "metadata": {},
   "outputs": [],
   "source": [
    "import numpy as np\n",
    "\n",
    "def vectoreslinealmenteindependientes(v1, v2,v3):\n",
    "    # Convierte los vectores en NumPy arrays\n",
    "    v1 = np.array(v1)\n",
    "    v2 = np.array(v2)\n",
    "    v3 = np.array(v3)\n",
    "\n",
    "    # Crea una matriz con los vectores como columnas\n",
    "    matrix = np.column_stack((v1, v2,v3))\n",
    "\n",
    "    # Calcula el rango de la matriz\n",
    "    rank = np.linalg.matrix_rank(matrix)\n",
    "\n",
    "    # Revisa si el rango de la matriz es igual al número de vectores (Para este punto son 3 vectores)\n",
    "    if rank == 3:\n",
    "        return 'Los vectores son Linealmente Independientes'\n",
    "    else:\n",
    "        return 'los vectores son Linealmente Dependientes'\n",
    "\n",
    "# Vectores del problema (N=1)\n",
    "vector1 = [56, 3*56, 4*56]\n",
    "vector2 = [56/2, 56*3/2, -3*56/2]\n",
    "vector3 = [-4*56,7*56,-8*56]\n",
    "\n",
    "result = vectoreslinealmenteindependientes(vector1, vector2,vector3)\n",
    "\n",
    "print(result)\n",
    "\n"
   ]
  }
 ],
 "metadata": {
  "kernelspec": {
   "display_name": "Python 3",
   "language": "python",
   "name": "python3"
  },
  "language_info": {
   "name": "python",
   "version": "3.11.4"
  },
  "orig_nbformat": 4
 },
 "nbformat": 4,
 "nbformat_minor": 2
}
